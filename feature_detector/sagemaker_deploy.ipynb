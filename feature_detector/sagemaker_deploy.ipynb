{
 "cells": [
  {
   "cell_type": "code",
   "execution_count": 1,
   "metadata": {},
   "outputs": [
    {
     "name": "stdout",
     "output_type": "stream",
     "text": [
      "sagemaker.config INFO - Not applying SDK defaults from location: /etc/xdg/xdg-ubuntu/sagemaker/config.yaml\n",
      "sagemaker.config INFO - Not applying SDK defaults from location: /home/steve/.config/sagemaker/config.yaml\n"
     ]
    }
   ],
   "source": [
    "from sagemaker import Session, LocalSession\n",
    "import boto3\n",
    "import sagemaker\n",
    "import os\n",
    "from dotenv import load_dotenv\n",
    "load_dotenv()\n",
    "\n",
    "config_env = 'default'\n",
    "boto_session = boto3.Session(profile_name=config_env)\n",
    "iam = boto_session.client('iam')\n",
    "role = iam.get_role(RoleName=os.environ[\"SAGEMAKER_EXECUTION_ROLE\"])['Role']['Arn']\n",
    "\n",
    "sagemaker_session = Session(boto_session=boto_session)\n",
    "\n",
    "# LocalSession\n",
    "# sagemaker_session = LocalSession(boto_session=boto_session)\n",
    "# sagemaker_session.config = {'local': {'local_code': True}}"
   ]
  },
  {
   "cell_type": "code",
   "execution_count": 2,
   "metadata": {},
   "outputs": [
    {
     "name": "stdout",
     "output_type": "stream",
     "text": [
      "best.bak\n"
     ]
    },
    {
     "name": "stdout",
     "output_type": "stream",
     "text": [
      "best.ckpt\n",
      "code/\n",
      "code/inference.py\n",
      "code/demo_input.pkl\n",
      "code/encoders.py\n",
      "code/test_inference.py\n",
      "code/requirements.txt\n",
      "code/models.py\n",
      "code/util.py\n",
      "hparams.yaml\n"
     ]
    }
   ],
   "source": [
    "import os\n",
    "\n",
    "# zip the local model folder to model.tar.gz - only the contents of the folder, not the folder itself\n",
    "!cd model && tar -czvf ../model.tar.gz *\n",
    "\n",
    "# # upload to s3 if it doesn't exist\n",
    "# # Create an S3 client\n",
    "\n",
    "s3 = boto3.client('s3')\n",
    "#                              This is the default sagemaker bucket - but can probably grab a different bucket with the same permissions\n",
    "s3.upload_file('model.tar.gz', os.environ[\"SAGEMAKER_S3_BUCKET\"], 'uv_net.tar.gz')\n"
   ]
  },
  {
   "cell_type": "code",
   "execution_count": 3,
   "metadata": {},
   "outputs": [],
   "source": [
    "\n",
    "from sagemaker.pytorch import PyTorchModel\n",
    "model = PyTorchModel(\n",
    "    model_data=\"./model.tar.gz\",\n",
    "    entry_point=\"inference.py\",\n",
    "    framework_version=\"1.13\",\n",
    "    py_version=\"py39\",\n",
    "    # source_dir=\"code\",\n",
    "    role=role,\n",
    "    sagemaker_session=sagemaker_session,\n",
    ")"
   ]
  },
  {
   "cell_type": "code",
   "execution_count": 9,
   "metadata": {},
   "outputs": [],
   "source": [
    "# create dummy payload\n",
    "import pickle\n",
    "\n",
    "with open(\"demo_input.pkl\", \"rb\") as f:\n",
    "    payload = pickle.load(f)\n",
    "\n",
    "payload['graph_face_feat'] = payload['graph_face_feat'].tolist()\n",
    "payload['graph_edge_feat'] = payload['graph_edge_feat'].tolist()"
   ]
  },
  {
   "cell_type": "code",
   "execution_count": 18,
   "metadata": {},
   "outputs": [
    {
     "name": "stdout",
     "output_type": "stream",
     "text": [
      "--------!"
     ]
    }
   ],
   "source": [
    "\n",
    "from sagemaker.serializers import JSONSerializer\n",
    "from sagemaker.deserializers import JSONDeserializer\n"
   ]
  },
  {
   "cell_type": "code",
   "execution_count": null,
   "metadata": {},
   "outputs": [],
   "source": [
    "# SERVERLESS CONFIG\n",
    "# TODO: test to see configuration that actually works\n",
    "# deploying from local breaks\n",
    "# and deploying from remote timesout with current config\n",
    "# from sagemaker.serverless import ServerlessInferenceConfig\n",
    "\n",
    "# Create an empty ServerlessInferenceConfig object to use default values\n",
    "# serverless_config = ServerlessInferenceConfig(\n",
    "#     memory_size_in_mb=2048,\n",
    "#     provisioned_concurrency=1,\n",
    "# )\n",
    "\n",
    "# serverless_predictor = model.deploy(\n",
    "#     endpoint_name=\"cad-feature-detection-uv-net\",\n",
    "#     serverless_inference_config=serverless_config,\n",
    "#     serializer=JSONSerializer(),\n",
    "#     deserializer=JSONDeserializer(),\n",
    "# )"
   ]
  },
  {
   "cell_type": "code",
   "execution_count": null,
   "metadata": {},
   "outputs": [],
   "source": [
    "# Local or On Demand\n",
    "predictor = model.deploy(\n",
    "    initial_instance_count=1,  \n",
    "    instance_type=\"ml.t2.medium\", # local\n",
    "    endpoint_name=\"cad-feature-detection-uv-net\",\n",
    "    serializer=JSONSerializer(),\n",
    "    deserializer=JSONDeserializer(),\n",
    ")"
   ]
  },
  {
   "cell_type": "code",
   "execution_count": 19,
   "metadata": {},
   "outputs": [],
   "source": [
    "response = predictor.predict(payload)"
   ]
  },
  {
   "cell_type": "code",
   "execution_count": 20,
   "metadata": {},
   "outputs": [
    {
     "data": {
      "text/plain": [
       "['triangular_passage',\n",
       " 'triangular_blind_step',\n",
       " 'triangular_blind_step',\n",
       " 'triangular_blind_step',\n",
       " 'triangular_blind_step',\n",
       " 'triangular_blind_step',\n",
       " 'triangular_blind_step',\n",
       " 'triangular_blind_step',\n",
       " 'triangular_blind_step',\n",
       " 'triangular_blind_step',\n",
       " 'triangular_blind_step',\n",
       " 'triangular_blind_step',\n",
       " 'triangular_blind_step',\n",
       " 'chamfer',\n",
       " 'triangular_blind_step',\n",
       " 'chamfer',\n",
       " 'chamfer',\n",
       " 'triangular_blind_step',\n",
       " 'chamfer',\n",
       " 'chamfer',\n",
       " 'chamfer',\n",
       " 'triangular_blind_step',\n",
       " 'triangular_blind_step',\n",
       " 'triangular_blind_step',\n",
       " 'triangular_blind_step',\n",
       " 'triangular_blind_step',\n",
       " 'chamfer',\n",
       " 'chamfer',\n",
       " 'chamfer',\n",
       " 'chamfer',\n",
       " 'chamfer',\n",
       " 'chamfer',\n",
       " 'triangular_blind_step',\n",
       " 'triangular_blind_step',\n",
       " 'triangular_blind_step',\n",
       " 'triangular_blind_step',\n",
       " 'triangular_blind_step',\n",
       " 'triangular_passage',\n",
       " 'triangular_passage',\n",
       " 'triangular_passage',\n",
       " 'triangular_passage',\n",
       " 'triangular_passage',\n",
       " 'triangular_passage',\n",
       " 'triangular_passage',\n",
       " 'triangular_passage',\n",
       " 'triangular_passage',\n",
       " 'triangular_passage',\n",
       " 'triangular_passage',\n",
       " 'triangular_blind_step',\n",
       " 'chamfer',\n",
       " 'chamfer',\n",
       " 'triangular_blind_step',\n",
       " 'triangular_blind_step',\n",
       " 'triangular_blind_step',\n",
       " 'chamfer',\n",
       " 'triangular_blind_step',\n",
       " 'chamfer',\n",
       " 'triangular_blind_step',\n",
       " 'chamfer',\n",
       " 'triangular_blind_step',\n",
       " 'chamfer',\n",
       " 'triangular_blind_step',\n",
       " 'triangular_blind_step',\n",
       " 'triangular_blind_step',\n",
       " 'triangular_blind_step',\n",
       " 'triangular_blind_step',\n",
       " 'triangular_blind_step',\n",
       " 'triangular_blind_step',\n",
       " 'triangular_passage',\n",
       " 'triangular_blind_step',\n",
       " 'triangular_passage',\n",
       " 'triangular_passage',\n",
       " 'triangular_passage',\n",
       " 'triangular_passage',\n",
       " 'triangular_passage',\n",
       " 'triangular_passage',\n",
       " 'triangular_passage',\n",
       " 'triangular_passage',\n",
       " 'triangular_passage',\n",
       " 'triangular_passage',\n",
       " 'triangular_passage',\n",
       " 'triangular_passage',\n",
       " 'rectangular_pocket',\n",
       " 'triangular_blind_step',\n",
       " 'triangular_blind_step',\n",
       " 'triangular_blind_step',\n",
       " 'triangular_blind_step',\n",
       " 'triangular_blind_step',\n",
       " 'triangular_blind_step',\n",
       " 'triangular_blind_step',\n",
       " 'triangular_blind_step',\n",
       " 'triangular_blind_step',\n",
       " 'triangular_blind_step',\n",
       " 'triangular_blind_step',\n",
       " 'triangular_blind_step',\n",
       " 'triangular_blind_step',\n",
       " 'triangular_blind_step',\n",
       " 'triangular_blind_step']"
      ]
     },
     "execution_count": 20,
     "metadata": {},
     "output_type": "execute_result"
    }
   ],
   "source": [
    "response"
   ]
  },
  {
   "cell_type": "code",
   "execution_count": null,
   "metadata": {},
   "outputs": [
    {
     "data": {
      "text/plain": [
       "list"
      ]
     },
     "execution_count": 10,
     "metadata": {},
     "output_type": "execute_result"
    }
   ],
   "source": [
    "type(response)"
   ]
  },
  {
   "cell_type": "code",
   "execution_count": 22,
   "metadata": {},
   "outputs": [],
   "source": [
    "# Clean Up\n",
    "predictor.delete_model()\n",
    "predictor.delete_endpoint()\n",
    "\n",
    "# serverless_predictor.delete_model()\n",
    "# serverless_predictor.delete_endpoint()\n"
   ]
  }
 ],
 "metadata": {
  "kernelspec": {
   "display_name": "sagemaker",
   "language": "python",
   "name": "python3"
  },
  "language_info": {
   "codemirror_mode": {
    "name": "ipython",
    "version": 3
   },
   "file_extension": ".py",
   "mimetype": "text/x-python",
   "name": "python",
   "nbconvert_exporter": "python",
   "pygments_lexer": "ipython3",
   "version": "3.9.18"
  }
 },
 "nbformat": 4,
 "nbformat_minor": 2
}
